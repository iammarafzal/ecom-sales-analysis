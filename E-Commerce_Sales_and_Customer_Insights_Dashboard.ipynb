{
 "cells": [
  {
   "cell_type": "code",
   "execution_count": 1,
   "id": "ac8188c7",
   "metadata": {},
   "outputs": [],
   "source": [
    "import pandas as pd\n",
    "import numpy as np\n",
    "import matplotlib.pyplot as plt\n",
    "\n",
    "\n",
    "data = pd.read_csv(\"./dataset/ecommerce_transaction_data.csv\")"
   ]
  },
  {
   "cell_type": "markdown",
   "id": "90a69f19",
   "metadata": {},
   "source": [
    "#### 1. Data Cleaning and Preparation"
   ]
  },
  {
   "cell_type": "code",
   "execution_count": 2,
   "id": "bd0ea5fd",
   "metadata": {},
   "outputs": [],
   "source": [
    "# Handled Null Values e.g. Rating \n",
    "data['Rating'] = data['Rating'].fillna(data['Rating'].mean()).round(2)"
   ]
  },
  {
   "cell_type": "code",
   "execution_count": 3,
   "id": "ad056a0f",
   "metadata": {},
   "outputs": [],
   "source": [
    "# Convert Data Types where required \n",
    "data['Order Date'] = data['Order Date'].astype('datetime64[ns]')"
   ]
  },
  {
   "cell_type": "code",
   "execution_count": 4,
   "id": "6abdcf71",
   "metadata": {},
   "outputs": [],
   "source": [
    "# Added Total Amount Column \n",
    "data['Total Amount'] = data['Quantity'] * data['Price per Unit']"
   ]
  },
  {
   "cell_type": "markdown",
   "id": "80ad350b",
   "metadata": {},
   "source": [
    "#### 2. Exploratory Data Analysis (EDA)"
   ]
  },
  {
   "cell_type": "code",
   "execution_count": 5,
   "id": "c0464bb3",
   "metadata": {},
   "outputs": [
    {
     "name": "stdout",
     "output_type": "stream",
     "text": [
      "Total Revenue:  8265597.0\n"
     ]
    }
   ],
   "source": [
    "# Total Revenue \n",
    "total_revenue = data['Total Amount'].sum().round()\n",
    "print(\"Total Revenue: \", total_revenue)"
   ]
  },
  {
   "cell_type": "code",
   "execution_count": 6,
   "id": "c2dc59cf",
   "metadata": {},
   "outputs": [
    {
     "name": "stdout",
     "output_type": "stream",
     "text": [
      "Average Basket Size:  3.0\n"
     ]
    }
   ],
   "source": [
    "# Avg Basket Size \n",
    "number_of_products_per_order = data['Quantity'].mean().round()\n",
    "print(\"Average Basket Size: \", number_of_products_per_order)"
   ]
  },
  {
   "cell_type": "code",
   "execution_count": 7,
   "id": "18afd00f",
   "metadata": {},
   "outputs": [
    {
     "name": "stdout",
     "output_type": "stream",
     "text": [
      "Average Order Value:  8266.0\n"
     ]
    }
   ],
   "source": [
    "# Avg Order Value \n",
    "average_order_value = data['Total Amount'].mean().round()\n",
    "print(\"Average Order Value: \", average_order_value)\n"
   ]
  },
  {
   "cell_type": "code",
   "execution_count": 8,
   "id": "5b452686",
   "metadata": {},
   "outputs": [
    {
     "data": {
      "text/html": [
       "<div>\n",
       "<style scoped>\n",
       "    .dataframe tbody tr th:only-of-type {\n",
       "        vertical-align: middle;\n",
       "    }\n",
       "\n",
       "    .dataframe tbody tr th {\n",
       "        vertical-align: top;\n",
       "    }\n",
       "\n",
       "    .dataframe thead th {\n",
       "        text-align: right;\n",
       "    }\n",
       "</style>\n",
       "<table border=\"1\" class=\"dataframe\">\n",
       "  <thead>\n",
       "    <tr style=\"text-align: right;\">\n",
       "      <th></th>\n",
       "      <th>No. of items sold</th>\n",
       "    </tr>\n",
       "    <tr>\n",
       "      <th>Product Category</th>\n",
       "      <th></th>\n",
       "    </tr>\n",
       "  </thead>\n",
       "  <tbody>\n",
       "    <tr>\n",
       "      <th>Sports</th>\n",
       "      <td>464</td>\n",
       "    </tr>\n",
       "    <tr>\n",
       "      <th>Toys</th>\n",
       "      <td>434</td>\n",
       "    </tr>\n",
       "    <tr>\n",
       "      <th>Books</th>\n",
       "      <td>430</td>\n",
       "    </tr>\n",
       "    <tr>\n",
       "      <th>Home</th>\n",
       "      <td>429</td>\n",
       "    </tr>\n",
       "    <tr>\n",
       "      <th>Electronics</th>\n",
       "      <td>410</td>\n",
       "    </tr>\n",
       "  </tbody>\n",
       "</table>\n",
       "</div>"
      ],
      "text/plain": [
       "                  No. of items sold\n",
       "Product Category                   \n",
       "Sports                          464\n",
       "Toys                            434\n",
       "Books                           430\n",
       "Home                            429\n",
       "Electronics                     410"
      ]
     },
     "execution_count": 8,
     "metadata": {},
     "output_type": "execute_result"
    }
   ],
   "source": [
    "# Top 5 Categories by quantity sold \n",
    "top_5_categories_by_quantity = data.groupby(\"Product Category\").agg({\"Quantity\": \"sum\"}).sort_values(by=\"Quantity\", ascending=False).rename(columns={\"Quantity\": \"No. of items sold\"}).head()\n",
    "top_5_categories_by_quantity"
   ]
  },
  {
   "cell_type": "code",
   "execution_count": 9,
   "id": "5f3396e0",
   "metadata": {},
   "outputs": [
    {
     "data": {
      "text/html": [
       "<div>\n",
       "<style scoped>\n",
       "    .dataframe tbody tr th:only-of-type {\n",
       "        vertical-align: middle;\n",
       "    }\n",
       "\n",
       "    .dataframe tbody tr th {\n",
       "        vertical-align: top;\n",
       "    }\n",
       "\n",
       "    .dataframe thead th {\n",
       "        text-align: right;\n",
       "    }\n",
       "</style>\n",
       "<table border=\"1\" class=\"dataframe\">\n",
       "  <thead>\n",
       "    <tr style=\"text-align: right;\">\n",
       "      <th></th>\n",
       "      <th>Total Revenue</th>\n",
       "    </tr>\n",
       "    <tr>\n",
       "      <th>Product Category</th>\n",
       "      <th></th>\n",
       "    </tr>\n",
       "  </thead>\n",
       "  <tbody>\n",
       "    <tr>\n",
       "      <th>Sports</th>\n",
       "      <td>1259251</td>\n",
       "    </tr>\n",
       "    <tr>\n",
       "      <th>Books</th>\n",
       "      <td>1238558</td>\n",
       "    </tr>\n",
       "    <tr>\n",
       "      <th>Toys</th>\n",
       "      <td>1212869</td>\n",
       "    </tr>\n",
       "    <tr>\n",
       "      <th>Home</th>\n",
       "      <td>1204257</td>\n",
       "    </tr>\n",
       "    <tr>\n",
       "      <th>Fashion</th>\n",
       "      <td>1186568</td>\n",
       "    </tr>\n",
       "  </tbody>\n",
       "</table>\n",
       "</div>"
      ],
      "text/plain": [
       "                  Total Revenue\n",
       "Product Category               \n",
       "Sports                  1259251\n",
       "Books                   1238558\n",
       "Toys                    1212869\n",
       "Home                    1204257\n",
       "Fashion                 1186568"
      ]
     },
     "execution_count": 9,
     "metadata": {},
     "output_type": "execute_result"
    }
   ],
   "source": [
    "# Top 5 Categories by revenue \n",
    "top_5_categories_by_revenue = data.groupby(\"Product Category\").agg({\"Total Amount\": \"sum\"}).sort_values(by=\"Total Amount\", ascending=False).rename(columns={\"Total Amount\": \"Total Revenue\"}).astype(int).head()\n",
    "top_5_categories_by_revenue"
   ]
  },
  {
   "cell_type": "code",
   "execution_count": 10,
   "id": "26bdb55c",
   "metadata": {},
   "outputs": [
    {
     "data": {
      "text/html": [
       "<div>\n",
       "<style scoped>\n",
       "    .dataframe tbody tr th:only-of-type {\n",
       "        vertical-align: middle;\n",
       "    }\n",
       "\n",
       "    .dataframe tbody tr th {\n",
       "        vertical-align: top;\n",
       "    }\n",
       "\n",
       "    .dataframe thead th {\n",
       "        text-align: right;\n",
       "    }\n",
       "</style>\n",
       "<table border=\"1\" class=\"dataframe\">\n",
       "  <thead>\n",
       "    <tr style=\"text-align: right;\">\n",
       "      <th></th>\n",
       "      <th>Customer ID</th>\n",
       "    </tr>\n",
       "    <tr>\n",
       "      <th>Age</th>\n",
       "      <th></th>\n",
       "    </tr>\n",
       "  </thead>\n",
       "  <tbody>\n",
       "    <tr>\n",
       "      <th>21</th>\n",
       "      <td>37</td>\n",
       "    </tr>\n",
       "    <tr>\n",
       "      <th>51</th>\n",
       "      <td>32</td>\n",
       "    </tr>\n",
       "    <tr>\n",
       "      <th>20</th>\n",
       "      <td>30</td>\n",
       "    </tr>\n",
       "    <tr>\n",
       "      <th>42</th>\n",
       "      <td>29</td>\n",
       "    </tr>\n",
       "    <tr>\n",
       "      <th>27</th>\n",
       "      <td>29</td>\n",
       "    </tr>\n",
       "    <tr>\n",
       "      <th>36</th>\n",
       "      <td>28</td>\n",
       "    </tr>\n",
       "    <tr>\n",
       "      <th>59</th>\n",
       "      <td>28</td>\n",
       "    </tr>\n",
       "    <tr>\n",
       "      <th>23</th>\n",
       "      <td>27</td>\n",
       "    </tr>\n",
       "    <tr>\n",
       "      <th>39</th>\n",
       "      <td>27</td>\n",
       "    </tr>\n",
       "    <tr>\n",
       "      <th>58</th>\n",
       "      <td>26</td>\n",
       "    </tr>\n",
       "    <tr>\n",
       "      <th>38</th>\n",
       "      <td>26</td>\n",
       "    </tr>\n",
       "    <tr>\n",
       "      <th>49</th>\n",
       "      <td>26</td>\n",
       "    </tr>\n",
       "    <tr>\n",
       "      <th>30</th>\n",
       "      <td>26</td>\n",
       "    </tr>\n",
       "    <tr>\n",
       "      <th>34</th>\n",
       "      <td>25</td>\n",
       "    </tr>\n",
       "    <tr>\n",
       "      <th>43</th>\n",
       "      <td>25</td>\n",
       "    </tr>\n",
       "    <tr>\n",
       "      <th>35</th>\n",
       "      <td>25</td>\n",
       "    </tr>\n",
       "    <tr>\n",
       "      <th>57</th>\n",
       "      <td>25</td>\n",
       "    </tr>\n",
       "    <tr>\n",
       "      <th>19</th>\n",
       "      <td>24</td>\n",
       "    </tr>\n",
       "    <tr>\n",
       "      <th>28</th>\n",
       "      <td>24</td>\n",
       "    </tr>\n",
       "    <tr>\n",
       "      <th>48</th>\n",
       "      <td>24</td>\n",
       "    </tr>\n",
       "    <tr>\n",
       "      <th>41</th>\n",
       "      <td>24</td>\n",
       "    </tr>\n",
       "    <tr>\n",
       "      <th>60</th>\n",
       "      <td>23</td>\n",
       "    </tr>\n",
       "    <tr>\n",
       "      <th>44</th>\n",
       "      <td>23</td>\n",
       "    </tr>\n",
       "    <tr>\n",
       "      <th>25</th>\n",
       "      <td>23</td>\n",
       "    </tr>\n",
       "    <tr>\n",
       "      <th>47</th>\n",
       "      <td>23</td>\n",
       "    </tr>\n",
       "    <tr>\n",
       "      <th>52</th>\n",
       "      <td>23</td>\n",
       "    </tr>\n",
       "    <tr>\n",
       "      <th>24</th>\n",
       "      <td>22</td>\n",
       "    </tr>\n",
       "    <tr>\n",
       "      <th>29</th>\n",
       "      <td>22</td>\n",
       "    </tr>\n",
       "    <tr>\n",
       "      <th>37</th>\n",
       "      <td>22</td>\n",
       "    </tr>\n",
       "    <tr>\n",
       "      <th>31</th>\n",
       "      <td>22</td>\n",
       "    </tr>\n",
       "    <tr>\n",
       "      <th>32</th>\n",
       "      <td>21</td>\n",
       "    </tr>\n",
       "    <tr>\n",
       "      <th>40</th>\n",
       "      <td>20</td>\n",
       "    </tr>\n",
       "    <tr>\n",
       "      <th>33</th>\n",
       "      <td>20</td>\n",
       "    </tr>\n",
       "    <tr>\n",
       "      <th>55</th>\n",
       "      <td>19</td>\n",
       "    </tr>\n",
       "    <tr>\n",
       "      <th>22</th>\n",
       "      <td>18</td>\n",
       "    </tr>\n",
       "    <tr>\n",
       "      <th>53</th>\n",
       "      <td>18</td>\n",
       "    </tr>\n",
       "    <tr>\n",
       "      <th>26</th>\n",
       "      <td>17</td>\n",
       "    </tr>\n",
       "    <tr>\n",
       "      <th>54</th>\n",
       "      <td>17</td>\n",
       "    </tr>\n",
       "    <tr>\n",
       "      <th>46</th>\n",
       "      <td>17</td>\n",
       "    </tr>\n",
       "    <tr>\n",
       "      <th>45</th>\n",
       "      <td>17</td>\n",
       "    </tr>\n",
       "    <tr>\n",
       "      <th>18</th>\n",
       "      <td>16</td>\n",
       "    </tr>\n",
       "    <tr>\n",
       "      <th>50</th>\n",
       "      <td>16</td>\n",
       "    </tr>\n",
       "    <tr>\n",
       "      <th>56</th>\n",
       "      <td>14</td>\n",
       "    </tr>\n",
       "  </tbody>\n",
       "</table>\n",
       "</div>"
      ],
      "text/plain": [
       "     Customer ID\n",
       "Age             \n",
       "21            37\n",
       "51            32\n",
       "20            30\n",
       "42            29\n",
       "27            29\n",
       "36            28\n",
       "59            28\n",
       "23            27\n",
       "39            27\n",
       "58            26\n",
       "38            26\n",
       "49            26\n",
       "30            26\n",
       "34            25\n",
       "43            25\n",
       "35            25\n",
       "57            25\n",
       "19            24\n",
       "28            24\n",
       "48            24\n",
       "41            24\n",
       "60            23\n",
       "44            23\n",
       "25            23\n",
       "47            23\n",
       "52            23\n",
       "24            22\n",
       "29            22\n",
       "37            22\n",
       "31            22\n",
       "32            21\n",
       "40            20\n",
       "33            20\n",
       "55            19\n",
       "22            18\n",
       "53            18\n",
       "26            17\n",
       "54            17\n",
       "46            17\n",
       "45            17\n",
       "18            16\n",
       "50            16\n",
       "56            14"
      ]
     },
     "execution_count": 10,
     "metadata": {},
     "output_type": "execute_result"
    }
   ],
   "source": [
    "# Which Age Group Buy the most \n",
    "order_per_age_group = data.groupby(\"Age\").agg({\"Customer ID\": \"count\"}).sort_values(by=\"Customer ID\", ascending=False)\n",
    "order_per_age_group"
   ]
  },
  {
   "cell_type": "code",
   "execution_count": 11,
   "id": "1df891cf",
   "metadata": {},
   "outputs": [
    {
     "data": {
      "text/html": [
       "<div>\n",
       "<style scoped>\n",
       "    .dataframe tbody tr th:only-of-type {\n",
       "        vertical-align: middle;\n",
       "    }\n",
       "\n",
       "    .dataframe tbody tr th {\n",
       "        vertical-align: top;\n",
       "    }\n",
       "\n",
       "    .dataframe thead th {\n",
       "        text-align: right;\n",
       "    }\n",
       "</style>\n",
       "<table border=\"1\" class=\"dataframe\">\n",
       "  <thead>\n",
       "    <tr style=\"text-align: right;\">\n",
       "      <th></th>\n",
       "      <th>Customer ID</th>\n",
       "    </tr>\n",
       "    <tr>\n",
       "      <th>Gender</th>\n",
       "      <th></th>\n",
       "    </tr>\n",
       "  </thead>\n",
       "  <tbody>\n",
       "    <tr>\n",
       "      <th>Other</th>\n",
       "      <td>339</td>\n",
       "    </tr>\n",
       "    <tr>\n",
       "      <th>Female</th>\n",
       "      <td>337</td>\n",
       "    </tr>\n",
       "    <tr>\n",
       "      <th>Male</th>\n",
       "      <td>324</td>\n",
       "    </tr>\n",
       "  </tbody>\n",
       "</table>\n",
       "</div>"
      ],
      "text/plain": [
       "        Customer ID\n",
       "Gender             \n",
       "Other           339\n",
       "Female          337\n",
       "Male            324"
      ]
     },
     "execution_count": 11,
     "metadata": {},
     "output_type": "execute_result"
    }
   ],
   "source": [
    "# Gender Group Buy the most \n",
    "order_per_gender_group = data.groupby(\"Gender\").agg({\"Customer ID\": \"count\"}).sort_values(by=\"Customer ID\", ascending=False)\n",
    "order_per_gender_group"
   ]
  },
  {
   "cell_type": "code",
   "execution_count": 12,
   "id": "a518d766",
   "metadata": {},
   "outputs": [
    {
     "data": {
      "text/plain": [
       "City\n",
       "Karachi       164\n",
       "Lahore        164\n",
       "Rawalpindi    144\n",
       "Multan        140\n",
       "Quetta        136\n",
       "Islamabad     131\n",
       "Peshawar      121\n",
       "Name: count, dtype: int64"
      ]
     },
     "execution_count": 12,
     "metadata": {},
     "output_type": "execute_result"
    }
   ],
   "source": [
    "# Cities with highest sales \n",
    "cities_highest_sales = data['City'].value_counts().sort_values(ascending=False)\n",
    "cities_highest_sales"
   ]
  },
  {
   "cell_type": "code",
   "execution_count": 13,
   "id": "954b7811",
   "metadata": {},
   "outputs": [
    {
     "name": "stdout",
     "output_type": "stream",
     "text": [
      "Payment Method\n",
      "Credit Card         212\n",
      "Wallet              207\n",
      "UPI                 206\n",
      "Debit Card          188\n",
      "Cash on Delivery    187\n",
      "Name: count, dtype: int64\n"
     ]
    }
   ],
   "source": [
    "most_preferred_payment_method = data['Payment Method'].value_counts().sort_values(ascending=False)\n",
    "print(most_preferred_payment_method)"
   ]
  },
  {
   "cell_type": "markdown",
   "id": "87295bad",
   "metadata": {},
   "source": [
    "#### 3. Time Series Analysis"
   ]
  },
  {
   "cell_type": "code",
   "execution_count": 14,
   "id": "a55af6f6",
   "metadata": {},
   "outputs": [
    {
     "data": {
      "text/html": [
       "<style type=\"text/css\">\n",
       "</style>\n",
       "<table id=\"T_55e51\">\n",
       "  <thead>\n",
       "    <tr>\n",
       "      <th id=\"T_55e51_level0_col0\" class=\"col_heading level0 col0\" >Month</th>\n",
       "      <th id=\"T_55e51_level0_col1\" class=\"col_heading level0 col1\" >No. of Orders</th>\n",
       "    </tr>\n",
       "  </thead>\n",
       "  <tbody>\n",
       "    <tr>\n",
       "      <td id=\"T_55e51_row0_col0\" class=\"data row0 col0\" >Jan</td>\n",
       "      <td id=\"T_55e51_row0_col1\" class=\"data row0 col1\" >76</td>\n",
       "    </tr>\n",
       "    <tr>\n",
       "      <td id=\"T_55e51_row1_col0\" class=\"data row1 col0\" >Feb</td>\n",
       "      <td id=\"T_55e51_row1_col1\" class=\"data row1 col1\" >68</td>\n",
       "    </tr>\n",
       "    <tr>\n",
       "      <td id=\"T_55e51_row2_col0\" class=\"data row2 col0\" >Mar</td>\n",
       "      <td id=\"T_55e51_row2_col1\" class=\"data row2 col1\" >90</td>\n",
       "    </tr>\n",
       "    <tr>\n",
       "      <td id=\"T_55e51_row3_col0\" class=\"data row3 col0\" >Apr</td>\n",
       "      <td id=\"T_55e51_row3_col1\" class=\"data row3 col1\" >102</td>\n",
       "    </tr>\n",
       "    <tr>\n",
       "      <td id=\"T_55e51_row4_col0\" class=\"data row4 col0\" >May</td>\n",
       "      <td id=\"T_55e51_row4_col1\" class=\"data row4 col1\" >94</td>\n",
       "    </tr>\n",
       "    <tr>\n",
       "      <td id=\"T_55e51_row5_col0\" class=\"data row5 col0\" >Jun</td>\n",
       "      <td id=\"T_55e51_row5_col1\" class=\"data row5 col1\" >82</td>\n",
       "    </tr>\n",
       "    <tr>\n",
       "      <td id=\"T_55e51_row6_col0\" class=\"data row6 col0\" >Jul</td>\n",
       "      <td id=\"T_55e51_row6_col1\" class=\"data row6 col1\" >71</td>\n",
       "    </tr>\n",
       "    <tr>\n",
       "      <td id=\"T_55e51_row7_col0\" class=\"data row7 col0\" >Aug</td>\n",
       "      <td id=\"T_55e51_row7_col1\" class=\"data row7 col1\" >85</td>\n",
       "    </tr>\n",
       "    <tr>\n",
       "      <td id=\"T_55e51_row8_col0\" class=\"data row8 col0\" >Sep</td>\n",
       "      <td id=\"T_55e51_row8_col1\" class=\"data row8 col1\" >87</td>\n",
       "    </tr>\n",
       "    <tr>\n",
       "      <td id=\"T_55e51_row9_col0\" class=\"data row9 col0\" >Oct</td>\n",
       "      <td id=\"T_55e51_row9_col1\" class=\"data row9 col1\" >89</td>\n",
       "    </tr>\n",
       "    <tr>\n",
       "      <td id=\"T_55e51_row10_col0\" class=\"data row10 col0\" >Nov</td>\n",
       "      <td id=\"T_55e51_row10_col1\" class=\"data row10 col1\" >92</td>\n",
       "    </tr>\n",
       "    <tr>\n",
       "      <td id=\"T_55e51_row11_col0\" class=\"data row11 col0\" >Dec</td>\n",
       "      <td id=\"T_55e51_row11_col1\" class=\"data row11 col1\" >64</td>\n",
       "    </tr>\n",
       "  </tbody>\n",
       "</table>\n"
      ],
      "text/plain": [
       "<pandas.io.formats.style.Styler at 0x214c53b6660>"
      ]
     },
     "execution_count": 14,
     "metadata": {},
     "output_type": "execute_result"
    }
   ],
   "source": [
    "# Analyze sales trends across months\n",
    "def months(mon):\n",
    "    months = {1:\"Jan\", 2:\"Feb\", 3:\"Mar\", 4:\"Apr\", 5:\"May\", 6:\"Jun\", 7:\"Jul\", 8:\"Aug\", 9:\"Sep\", 10:\"Oct\", 11:\"Nov\", 12:\"Dec\"}\n",
    "    return months[mon]\n",
    "\n",
    "monthly_trends = data.groupby(data['Order Date'].dt.month).agg({\"Order ID\": \"count\"})\n",
    "monthly_trends = monthly_trends.reset_index().rename(columns={'Order Date': 'Month', \"Order ID\": \"No. of Orders\"})\n",
    "monthly_trends['Month'] = monthly_trends[\"Month\"].apply(months)\n",
    "monthly_trends.style.hide(axis=\"index\")"
   ]
  },
  {
   "cell_type": "code",
   "execution_count": 15,
   "id": "4ef52ec0",
   "metadata": {},
   "outputs": [
    {
     "data": {
      "text/html": [
       "<style type=\"text/css\">\n",
       "</style>\n",
       "<table id=\"T_fdaa3\">\n",
       "  <thead>\n",
       "    <tr>\n",
       "      <th id=\"T_fdaa3_level0_col0\" class=\"col_heading level0 col0\" >Month</th>\n",
       "      <th id=\"T_fdaa3_level0_col1\" class=\"col_heading level0 col1\" >Total Amount</th>\n",
       "    </tr>\n",
       "  </thead>\n",
       "  <tbody>\n",
       "    <tr>\n",
       "      <td id=\"T_fdaa3_row0_col0\" class=\"data row0 col0\" >Jan</td>\n",
       "      <td id=\"T_fdaa3_row0_col1\" class=\"data row0 col1\" >512552</td>\n",
       "    </tr>\n",
       "    <tr>\n",
       "      <td id=\"T_fdaa3_row1_col0\" class=\"data row1 col0\" >Feb</td>\n",
       "      <td id=\"T_fdaa3_row1_col1\" class=\"data row1 col1\" >533614</td>\n",
       "    </tr>\n",
       "    <tr>\n",
       "      <td id=\"T_fdaa3_row2_col0\" class=\"data row2 col0\" >Mar</td>\n",
       "      <td id=\"T_fdaa3_row2_col1\" class=\"data row2 col1\" >679325</td>\n",
       "    </tr>\n",
       "    <tr>\n",
       "      <td id=\"T_fdaa3_row3_col0\" class=\"data row3 col0\" >Apr</td>\n",
       "      <td id=\"T_fdaa3_row3_col1\" class=\"data row3 col1\" >838863</td>\n",
       "    </tr>\n",
       "    <tr>\n",
       "      <td id=\"T_fdaa3_row4_col0\" class=\"data row4 col0\" >May</td>\n",
       "      <td id=\"T_fdaa3_row4_col1\" class=\"data row4 col1\" >735460</td>\n",
       "    </tr>\n",
       "    <tr>\n",
       "      <td id=\"T_fdaa3_row5_col0\" class=\"data row5 col0\" >Jun</td>\n",
       "      <td id=\"T_fdaa3_row5_col1\" class=\"data row5 col1\" >788878</td>\n",
       "    </tr>\n",
       "    <tr>\n",
       "      <td id=\"T_fdaa3_row6_col0\" class=\"data row6 col0\" >Jul</td>\n",
       "      <td id=\"T_fdaa3_row6_col1\" class=\"data row6 col1\" >543134</td>\n",
       "    </tr>\n",
       "    <tr>\n",
       "      <td id=\"T_fdaa3_row7_col0\" class=\"data row7 col0\" >Aug</td>\n",
       "      <td id=\"T_fdaa3_row7_col1\" class=\"data row7 col1\" >696748</td>\n",
       "    </tr>\n",
       "    <tr>\n",
       "      <td id=\"T_fdaa3_row8_col0\" class=\"data row8 col0\" >Sep</td>\n",
       "      <td id=\"T_fdaa3_row8_col1\" class=\"data row8 col1\" >708837</td>\n",
       "    </tr>\n",
       "    <tr>\n",
       "      <td id=\"T_fdaa3_row9_col0\" class=\"data row9 col0\" >Oct</td>\n",
       "      <td id=\"T_fdaa3_row9_col1\" class=\"data row9 col1\" >799369</td>\n",
       "    </tr>\n",
       "    <tr>\n",
       "      <td id=\"T_fdaa3_row10_col0\" class=\"data row10 col0\" >Nov</td>\n",
       "      <td id=\"T_fdaa3_row10_col1\" class=\"data row10 col1\" >810799</td>\n",
       "    </tr>\n",
       "    <tr>\n",
       "      <td id=\"T_fdaa3_row11_col0\" class=\"data row11 col0\" >Dec</td>\n",
       "      <td id=\"T_fdaa3_row11_col1\" class=\"data row11 col1\" >618010</td>\n",
       "    </tr>\n",
       "  </tbody>\n",
       "</table>\n"
      ],
      "text/plain": [
       "<pandas.io.formats.style.Styler at 0x214c53c8a50>"
      ]
     },
     "execution_count": 15,
     "metadata": {},
     "output_type": "execute_result"
    }
   ],
   "source": [
    "# Total Revenue per month \n",
    "monthly_revenue = data.groupby(data['Order Date'].dt.month).agg({\"Total Amount\": \"sum\"}).reset_index().rename(columns={\"Order Date\": \"Month\"})\n",
    "monthly_revenue['Month'] = monthly_revenue['Month'].apply(months)\n",
    "monthly_revenue['Total Amount'] = monthly_revenue['Total Amount'].astype(int)\n",
    "monthly_revenue.style.hide(axis=\"index\")"
   ]
  },
  {
   "cell_type": "code",
   "execution_count": 16,
   "id": "67c6ccbe",
   "metadata": {},
   "outputs": [
    {
     "data": {
      "text/html": [
       "<style type=\"text/css\">\n",
       "</style>\n",
       "<table id=\"T_699e0\">\n",
       "  <thead>\n",
       "    <tr>\n",
       "      <th id=\"T_699e0_level0_col0\" class=\"col_heading level0 col0\" >Quarter</th>\n",
       "      <th id=\"T_699e0_level0_col1\" class=\"col_heading level0 col1\" >No. of Orders</th>\n",
       "    </tr>\n",
       "  </thead>\n",
       "  <tbody>\n",
       "    <tr>\n",
       "      <td id=\"T_699e0_row0_col0\" class=\"data row0 col0\" >1</td>\n",
       "      <td id=\"T_699e0_row0_col1\" class=\"data row0 col1\" >234</td>\n",
       "    </tr>\n",
       "    <tr>\n",
       "      <td id=\"T_699e0_row1_col0\" class=\"data row1 col0\" >2</td>\n",
       "      <td id=\"T_699e0_row1_col1\" class=\"data row1 col1\" >278</td>\n",
       "    </tr>\n",
       "    <tr>\n",
       "      <td id=\"T_699e0_row2_col0\" class=\"data row2 col0\" >3</td>\n",
       "      <td id=\"T_699e0_row2_col1\" class=\"data row2 col1\" >243</td>\n",
       "    </tr>\n",
       "    <tr>\n",
       "      <td id=\"T_699e0_row3_col0\" class=\"data row3 col0\" >4</td>\n",
       "      <td id=\"T_699e0_row3_col1\" class=\"data row3 col1\" >245</td>\n",
       "    </tr>\n",
       "  </tbody>\n",
       "</table>\n"
      ],
      "text/plain": [
       "<pandas.io.formats.style.Styler at 0x214c53c8b90>"
      ]
     },
     "execution_count": 16,
     "metadata": {},
     "output_type": "execute_result"
    }
   ],
   "source": [
    "# Analyze sales trends across quarters\n",
    "quarters_trends = data.groupby(data['Order Date'].dt.quarter).agg({\"Order ID\": \"count\"}).reset_index().rename(columns={\"Order Date\": \"Quarter\", \"Order ID\": \"No. of Orders\"})\n",
    "quarters_trends.style.hide(axis=0)"
   ]
  },
  {
   "cell_type": "code",
   "execution_count": 17,
   "id": "d34cd44c",
   "metadata": {},
   "outputs": [
    {
     "data": {
      "text/html": [
       "<style type=\"text/css\">\n",
       "</style>\n",
       "<table id=\"T_f6e98\">\n",
       "  <thead>\n",
       "    <tr>\n",
       "      <th id=\"T_f6e98_level0_col0\" class=\"col_heading level0 col0\" >Month</th>\n",
       "      <th id=\"T_f6e98_level0_col1\" class=\"col_heading level0 col1\" >No. of Orders</th>\n",
       "    </tr>\n",
       "  </thead>\n",
       "  <tbody>\n",
       "    <tr>\n",
       "      <td id=\"T_f6e98_row0_col0\" class=\"data row0 col0\" >Apr</td>\n",
       "      <td id=\"T_f6e98_row0_col1\" class=\"data row0 col1\" >102</td>\n",
       "    </tr>\n",
       "    <tr>\n",
       "      <td id=\"T_f6e98_row1_col0\" class=\"data row1 col0\" >May</td>\n",
       "      <td id=\"T_f6e98_row1_col1\" class=\"data row1 col1\" >94</td>\n",
       "    </tr>\n",
       "    <tr>\n",
       "      <td id=\"T_f6e98_row2_col0\" class=\"data row2 col0\" >Nov</td>\n",
       "      <td id=\"T_f6e98_row2_col1\" class=\"data row2 col1\" >92</td>\n",
       "    </tr>\n",
       "  </tbody>\n",
       "</table>\n"
      ],
      "text/plain": [
       "<pandas.io.formats.style.Styler at 0x214c53c8e10>"
      ]
     },
     "execution_count": 17,
     "metadata": {},
     "output_type": "execute_result"
    }
   ],
   "source": [
    "# Identify peak sales months\n",
    "peak_sales_months = monthly_trends.sort_values('No. of Orders', ascending=False).head(3)\n",
    "peak_sales_months.style.hide(axis=0)"
   ]
  },
  {
   "cell_type": "code",
   "execution_count": 18,
   "id": "26bec428",
   "metadata": {},
   "outputs": [
    {
     "data": {
      "text/html": [
       "<style type=\"text/css\">\n",
       "</style>\n",
       "<table id=\"T_37c0c\">\n",
       "  <thead>\n",
       "    <tr>\n",
       "      <th id=\"T_37c0c_level0_col0\" class=\"col_heading level0 col0\" >Month</th>\n",
       "      <th id=\"T_37c0c_level0_col1\" class=\"col_heading level0 col1\" >No. of Orders</th>\n",
       "    </tr>\n",
       "  </thead>\n",
       "  <tbody>\n",
       "    <tr>\n",
       "      <td id=\"T_37c0c_row0_col0\" class=\"data row0 col0\" >Dec</td>\n",
       "      <td id=\"T_37c0c_row0_col1\" class=\"data row0 col1\" >64</td>\n",
       "    </tr>\n",
       "    <tr>\n",
       "      <td id=\"T_37c0c_row1_col0\" class=\"data row1 col0\" >Feb</td>\n",
       "      <td id=\"T_37c0c_row1_col1\" class=\"data row1 col1\" >68</td>\n",
       "    </tr>\n",
       "    <tr>\n",
       "      <td id=\"T_37c0c_row2_col0\" class=\"data row2 col0\" >Jul</td>\n",
       "      <td id=\"T_37c0c_row2_col1\" class=\"data row2 col1\" >71</td>\n",
       "    </tr>\n",
       "  </tbody>\n",
       "</table>\n"
      ],
      "text/plain": [
       "<pandas.io.formats.style.Styler at 0x214c53c8f50>"
      ]
     },
     "execution_count": 18,
     "metadata": {},
     "output_type": "execute_result"
    }
   ],
   "source": [
    "# low-performing periods\n",
    "low_performing_periods = monthly_trends.sort_values('No. of Orders', ascending=True).head(3)\n",
    "low_performing_periods.style.hide(axis=0)"
   ]
  },
  {
   "cell_type": "markdown",
   "id": "7561ae11",
   "metadata": {},
   "source": [
    "#### 4. Customer Segmentation (Basic Level):"
   ]
  },
  {
   "cell_type": "code",
   "execution_count": 19,
   "id": "17ba966d",
   "metadata": {},
   "outputs": [
    {
     "data": {
      "text/html": [
       "<div>\n",
       "<style scoped>\n",
       "    .dataframe tbody tr th:only-of-type {\n",
       "        vertical-align: middle;\n",
       "    }\n",
       "\n",
       "    .dataframe tbody tr th {\n",
       "        vertical-align: top;\n",
       "    }\n",
       "\n",
       "    .dataframe thead th {\n",
       "        text-align: right;\n",
       "    }\n",
       "</style>\n",
       "<table border=\"1\" class=\"dataframe\">\n",
       "  <thead>\n",
       "    <tr style=\"text-align: right;\">\n",
       "      <th></th>\n",
       "      <th>Total Amount</th>\n",
       "      <th>Segments</th>\n",
       "    </tr>\n",
       "    <tr>\n",
       "      <th>Customer ID</th>\n",
       "      <th></th>\n",
       "      <th></th>\n",
       "    </tr>\n",
       "  </thead>\n",
       "  <tbody>\n",
       "    <tr>\n",
       "      <th>C1</th>\n",
       "      <td>53800.54</td>\n",
       "      <td>High</td>\n",
       "    </tr>\n",
       "    <tr>\n",
       "      <th>C10</th>\n",
       "      <td>40945.76</td>\n",
       "      <td>High</td>\n",
       "    </tr>\n",
       "    <tr>\n",
       "      <th>C100</th>\n",
       "      <td>41854.41</td>\n",
       "      <td>High</td>\n",
       "    </tr>\n",
       "    <tr>\n",
       "      <th>C101</th>\n",
       "      <td>15282.91</td>\n",
       "      <td>Medium</td>\n",
       "    </tr>\n",
       "    <tr>\n",
       "      <th>C102</th>\n",
       "      <td>4040.52</td>\n",
       "      <td>Low</td>\n",
       "    </tr>\n",
       "    <tr>\n",
       "      <th>...</th>\n",
       "      <td>...</td>\n",
       "      <td>...</td>\n",
       "    </tr>\n",
       "    <tr>\n",
       "      <th>C95</th>\n",
       "      <td>3554.53</td>\n",
       "      <td>Low</td>\n",
       "    </tr>\n",
       "    <tr>\n",
       "      <th>C96</th>\n",
       "      <td>12332.82</td>\n",
       "      <td>Medium</td>\n",
       "    </tr>\n",
       "    <tr>\n",
       "      <th>C97</th>\n",
       "      <td>6791.10</td>\n",
       "      <td>Low</td>\n",
       "    </tr>\n",
       "    <tr>\n",
       "      <th>C98</th>\n",
       "      <td>6873.29</td>\n",
       "      <td>Low</td>\n",
       "    </tr>\n",
       "    <tr>\n",
       "      <th>C99</th>\n",
       "      <td>72401.80</td>\n",
       "      <td>High</td>\n",
       "    </tr>\n",
       "  </tbody>\n",
       "</table>\n",
       "<p>289 rows × 2 columns</p>\n",
       "</div>"
      ],
      "text/plain": [
       "             Total Amount Segments\n",
       "Customer ID                       \n",
       "C1               53800.54     High\n",
       "C10              40945.76     High\n",
       "C100             41854.41     High\n",
       "C101             15282.91   Medium\n",
       "C102              4040.52      Low\n",
       "...                   ...      ...\n",
       "C95               3554.53      Low\n",
       "C96              12332.82   Medium\n",
       "C97               6791.10      Low\n",
       "C98               6873.29      Low\n",
       "C99              72401.80     High\n",
       "\n",
       "[289 rows x 2 columns]"
      ]
     },
     "execution_count": 19,
     "metadata": {},
     "output_type": "execute_result"
    }
   ],
   "source": [
    "# Classify customers into groups based on total spending (e.g., High, Medium, Low).\n",
    "customer_spendings = data.groupby(\"Customer ID\")['Total Amount'].sum()\n",
    "customer_segments = pd.cut(customer_spendings, bins=[0, 10000, 30000, float(np.inf)], labels=[\"Low\", \"Medium\", \"High\"])\n",
    "\n",
    "segmented_spendings = pd.DataFrame({\n",
    "    \"Total Amount\": customer_spendings,\n",
    "    \"Segments\": customer_segments\n",
    "})\n",
    "\n",
    "segmented_spendings"
   ]
  },
  {
   "cell_type": "code",
   "execution_count": 20,
   "id": "8848974f",
   "metadata": {},
   "outputs": [
    {
     "name": "stdout",
     "output_type": "stream",
     "text": [
      "One-Time Customers:  41\n",
      "Repeated Customers:  248\n"
     ]
    }
   ],
   "source": [
    "# Count Repeat vs One-Time Customers\n",
    "customer_order_count = data[\"Customer ID\"].value_counts()\n",
    "\n",
    "one_time_customer = customer_order_count[customer_order_count == 1].count()\n",
    "repeat_customer = customer_order_count[customer_order_count > 1].count()\n",
    "\n",
    "print(\"One-Time Customers: \", one_time_customer)\n",
    "print(\"Repeated Customers: \", repeat_customer)"
   ]
  },
  {
   "cell_type": "code",
   "execution_count": 21,
   "id": "c9a538cb",
   "metadata": {},
   "outputs": [
    {
     "name": "stdout",
     "output_type": "stream",
     "text": [
      "Buyer Type\n",
      "One-Time    2.91\n",
      "Repeat      3.03\n",
      "Name: Rating, dtype: float64\n"
     ]
    }
   ],
   "source": [
    "# Create a DataFrame with customer order counts\n",
    "customer_type = pd.DataFrame({\n",
    "    \"Customer ID\": customer_order_count.index,\n",
    "    \"Order Count\": customer_order_count.values\n",
    "})\n",
    "\n",
    "# Label customers\n",
    "customer_type[\"Buyer Type\"] = customer_type[\"Order Count\"].apply(lambda x: \"Repeat\" if x > 1 else \"One-Time\")\n",
    "\n",
    "# Merge back with original dataset\n",
    "data_with_type = data.merge(customer_type[[\"Customer ID\", \"Buyer Type\"]], on=\"Customer ID\")\n",
    "\n",
    "# Average rating per type\n",
    "avg_rating_by_type = data_with_type.groupby(\"Buyer Type\")[\"Rating\"].mean().round(2)\n",
    "print(avg_rating_by_type)\n"
   ]
  },
  {
   "cell_type": "markdown",
   "id": "2290eef0",
   "metadata": {},
   "source": [
    "#### 5. Product Rating Analysis"
   ]
  },
  {
   "cell_type": "code",
   "execution_count": 22,
   "id": "998eba97",
   "metadata": {},
   "outputs": [
    {
     "data": {
      "text/html": [
       "<div>\n",
       "<style scoped>\n",
       "    .dataframe tbody tr th:only-of-type {\n",
       "        vertical-align: middle;\n",
       "    }\n",
       "\n",
       "    .dataframe tbody tr th {\n",
       "        vertical-align: top;\n",
       "    }\n",
       "\n",
       "    .dataframe thead th {\n",
       "        text-align: right;\n",
       "    }\n",
       "</style>\n",
       "<table border=\"1\" class=\"dataframe\">\n",
       "  <thead>\n",
       "    <tr style=\"text-align: right;\">\n",
       "      <th></th>\n",
       "      <th>Rating</th>\n",
       "    </tr>\n",
       "    <tr>\n",
       "      <th>Product Category</th>\n",
       "      <th></th>\n",
       "    </tr>\n",
       "  </thead>\n",
       "  <tbody>\n",
       "    <tr>\n",
       "      <th>Beauty</th>\n",
       "      <td>2.96</td>\n",
       "    </tr>\n",
       "    <tr>\n",
       "      <th>Books</th>\n",
       "      <td>3.04</td>\n",
       "    </tr>\n",
       "    <tr>\n",
       "      <th>Electronics</th>\n",
       "      <td>3.09</td>\n",
       "    </tr>\n",
       "    <tr>\n",
       "      <th>Fashion</th>\n",
       "      <td>3.07</td>\n",
       "    </tr>\n",
       "    <tr>\n",
       "      <th>Home</th>\n",
       "      <td>3.08</td>\n",
       "    </tr>\n",
       "    <tr>\n",
       "      <th>Sports</th>\n",
       "      <td>3.00</td>\n",
       "    </tr>\n",
       "    <tr>\n",
       "      <th>Toys</th>\n",
       "      <td>2.96</td>\n",
       "    </tr>\n",
       "  </tbody>\n",
       "</table>\n",
       "</div>"
      ],
      "text/plain": [
       "                  Rating\n",
       "Product Category        \n",
       "Beauty              2.96\n",
       "Books               3.04\n",
       "Electronics         3.09\n",
       "Fashion             3.07\n",
       "Home                3.08\n",
       "Sports              3.00\n",
       "Toys                2.96"
      ]
     },
     "execution_count": 22,
     "metadata": {},
     "output_type": "execute_result"
    }
   ],
   "source": [
    "# Find average product rating per category.\n",
    "avg_product_rating = data.groupby(\"Product Category\").agg({\"Rating\": \"mean\"}).round(2)\n",
    "avg_product_rating"
   ]
  },
  {
   "cell_type": "code",
   "execution_count": 23,
   "id": "bb1c5717",
   "metadata": {},
   "outputs": [
    {
     "name": "stdout",
     "output_type": "stream",
     "text": [
      "Correlation b/w Price & Rating:  -0.04\n"
     ]
    }
   ],
   "source": [
    "# Correlation between Price and Rating \n",
    "cor = data['Price per Unit'].corr(data['Rating']).round(2)\n",
    "print(\"Correlation b/w Price & Rating: \", cor)"
   ]
  },
  {
   "cell_type": "code",
   "execution_count": 24,
   "id": "07e9c71d",
   "metadata": {},
   "outputs": [
    {
     "data": {
      "text/html": [
       "<div>\n",
       "<style scoped>\n",
       "    .dataframe tbody tr th:only-of-type {\n",
       "        vertical-align: middle;\n",
       "    }\n",
       "\n",
       "    .dataframe tbody tr th {\n",
       "        vertical-align: top;\n",
       "    }\n",
       "\n",
       "    .dataframe thead th {\n",
       "        text-align: right;\n",
       "    }\n",
       "</style>\n",
       "<table border=\"1\" class=\"dataframe\">\n",
       "  <thead>\n",
       "    <tr style=\"text-align: right;\">\n",
       "      <th></th>\n",
       "      <th>Rating</th>\n",
       "      <th>Quantity</th>\n",
       "    </tr>\n",
       "    <tr>\n",
       "      <th>Product ID</th>\n",
       "      <th></th>\n",
       "      <th></th>\n",
       "    </tr>\n",
       "  </thead>\n",
       "  <tbody>\n",
       "    <tr>\n",
       "      <th>P151</th>\n",
       "      <td>3.42</td>\n",
       "      <td>56</td>\n",
       "    </tr>\n",
       "    <tr>\n",
       "      <th>P144</th>\n",
       "      <td>3.29</td>\n",
       "      <td>54</td>\n",
       "    </tr>\n",
       "    <tr>\n",
       "      <th>P112</th>\n",
       "      <td>2.86</td>\n",
       "      <td>52</td>\n",
       "    </tr>\n",
       "    <tr>\n",
       "      <th>P140</th>\n",
       "      <td>2.72</td>\n",
       "      <td>56</td>\n",
       "    </tr>\n",
       "    <tr>\n",
       "      <th>P149</th>\n",
       "      <td>2.49</td>\n",
       "      <td>54</td>\n",
       "    </tr>\n",
       "  </tbody>\n",
       "</table>\n",
       "</div>"
      ],
      "text/plain": [
       "            Rating  Quantity\n",
       "Product ID                  \n",
       "P151          3.42        56\n",
       "P144          3.29        54\n",
       "P112          2.86        52\n",
       "P140          2.72        56\n",
       "P149          2.49        54"
      ]
     },
     "execution_count": 24,
     "metadata": {},
     "output_type": "execute_result"
    }
   ],
   "source": [
    "# Identify top 5 highest-rated products with at least 50 purchases.\n",
    "high_rated_products = data.groupby(\"Product ID\").agg({\"Rating\": \"mean\", \"Quantity\": \"sum\"}).sort_values(\"Rating\", ascending=False).round(2)\n",
    "high_rated_products = high_rated_products[high_rated_products['Quantity']>=50]\n",
    "high_rated_products"
   ]
  },
  {
   "cell_type": "markdown",
   "id": "b791654d",
   "metadata": {},
   "source": [
    "#### Data Visualization"
   ]
  },
  {
   "cell_type": "markdown",
   "id": "86a9fc59",
   "metadata": {},
   "source": [
    "1. Monthly Sales Trend Line Plot"
   ]
  },
  {
   "cell_type": "code",
   "execution_count": 25,
   "id": "3adf0e49",
   "metadata": {},
   "outputs": [
    {
     "data": {
      "text/plain": [
       "<Figure size 1000x600 with 0 Axes>"
      ]
     },
     "metadata": {},
     "output_type": "display_data"
    },
    {
     "data": {
      "image/png": "[encoded data removed]",
      "text/plain": [
       "<Figure size 640x480 with 1 Axes>"
      ]
     },
     "metadata": {},
     "output_type": "display_data"
    }
   ],
   "source": [
    "plt.figure(figsize=(10, 6))\n",
    "monthly_plot = monthly_trends.plot(x='Month', y='No. of Orders', kind='bar', legend=False, color='teal', edgecolor='black')\n",
    "\n",
    "plt.title(\"Number of Orders Per Month\", fontsize=14)\n",
    "plt.xlabel(\"Months\", fontsize=12)\n",
    "plt.ylabel(\"No. of Orders\", fontsize=12)\n",
    "plt.grid(axis='y', linestyle='--', alpha=0.7)\n",
    "plt.xticks(rotation=45)\n",
    "plt.tight_layout()\n",
    "plt.show()\n"
   ]
  },
  {
   "cell_type": "markdown",
   "id": "203c6661",
   "metadata": {},
   "source": [
    "2. Average Customer Ratings by Buyer Type"
   ]
  },
  {
   "cell_type": "code",
   "execution_count": 26,
   "id": "a5cd1765",
   "metadata": {},
   "outputs": [
    {
     "data": {
      "image/png": "[encoded data removed]",
      "text/plain": [
       "<Figure size 500x500 with 1 Axes>"
      ]
     },
     "metadata": {},
     "output_type": "display_data"
    }
   ],
   "source": [
    "plt.figure(figsize=((5, 5)))\n",
    "avg_rating_by_type.plot(kind=\"bar\", title=\"Avg Rating: Repeat vs One-Time Buyers\", \n",
    "                        ylabel=\"Average Rating\", xlabel=\"Buyer Type\", color=[\"skyblue\", \"orange\"])\n",
    "plt.xticks(rotation=360)\n",
    "plt.grid(axis='y', linestyle='--', alpha=0.7)\n",
    "plt.tight_layout()\n",
    "plt.show()"
   ]
  },
  {
   "cell_type": "markdown",
   "id": "0eef8f08",
   "metadata": {},
   "source": [
    "3. Top 10 Products Sold"
   ]
  },
  {
   "cell_type": "code",
   "execution_count": 27,
   "id": "cffe0b63",
   "metadata": {},
   "outputs": [
    {
     "data": {
      "image/png": "[encoded data removed]",
      "text/plain": [
       "<Figure size 600x400 with 1 Axes>"
      ]
     },
     "metadata": {},
     "output_type": "display_data"
    }
   ],
   "source": [
    "sales_per_product = data['Product ID'].value_counts().sort_values(ascending=True).tail(10)\n",
    "\n",
    "plt.figure(figsize=(6, 4))\n",
    "sales_per_product.plot(kind='barh', color='skyblue', edgecolor='black')\n",
    "\n",
    "plt.title(\"Top 10 Best-Selling Products\", fontsize=14)\n",
    "plt.xlabel(\"Number of Orders\", fontsize=12)\n",
    "plt.ylabel(\"Product ID\", fontsize=12)\n",
    "plt.grid(axis='x', linestyle='--', alpha=0.7)\n",
    "plt.tight_layout()\n",
    "plt.show()\n"
   ]
  },
  {
   "cell_type": "markdown",
   "id": "ef1095ec",
   "metadata": {},
   "source": [
    "4. Payment Method Distribution"
   ]
  },
  {
   "cell_type": "code",
   "execution_count": 28,
   "id": "3b179f37",
   "metadata": {},
   "outputs": [
    {
     "data": {
      "image/png": "[encoded data removed]",
      "text/plain": [
       "<Figure size 640x480 with 1 Axes>"
      ]
     },
     "metadata": {},
     "output_type": "display_data"
    }
   ],
   "source": [
    "# plt.figure(figsize=(8, 6))\n",
    "most_preferred_payment_method.plot(kind='pie', autopct='%1.1f%%', startangle=140, shadow=True)\n",
    "plt.title(\"Most Preferred Payment Methods\", fontsize=14)\n",
    "plt.ylabel(\"\")\n",
    "plt.tight_layout()\n",
    "plt.show()"
   ]
  },
  {
   "cell_type": "markdown",
   "id": "6cf639fa",
   "metadata": {},
   "source": [
    "5. Monthly Revenue Trend"
   ]
  },
  {
   "cell_type": "code",
   "execution_count": 29,
   "id": "418a9cb6",
   "metadata": {},
   "outputs": [
    {
     "data": {
      "image/png": "[encoded data removed]",
      "text/plain": [
       "<Figure size 640x480 with 1 Axes>"
      ]
     },
     "metadata": {},
     "output_type": "display_data"
    }
   ],
   "source": [
    "monthly_revenue.plot(x=\"Month\", kind='line', marker='o', color='green', legend=False)\n",
    "plt.title(\"Monthly Revenue Trend\", fontsize=16)\n",
    "plt.xlabel(\"Month\", fontsize=12)\n",
    "plt.ylabel(\"Total Revenue\", fontsize=12)\n",
    "plt.grid(True)\n",
    "plt.tight_layout()\n",
    "plt.show()\n"
   ]
  },
  {
   "cell_type": "markdown",
   "id": "7efbe06c",
   "metadata": {},
   "source": [
    "6. Top 10 cities by number of orders"
   ]
  },
  {
   "cell_type": "code",
   "execution_count": 30,
   "id": "f8e6f051",
   "metadata": {},
   "outputs": [
    {
     "data": {
      "image/png": "[encoded data removed]",
      "text/plain": [
       "<Figure size 640x480 with 1 Axes>"
      ]
     },
     "metadata": {},
     "output_type": "display_data"
    }
   ],
   "source": [
    "cities_highest_sales.plot(kind='bar', color='purple')\n",
    "plt.title(\"Top 10 Cities by Number of Orders\", fontsize=16)\n",
    "plt.xlabel(\"City\", fontsize=12)\n",
    "plt.ylabel(\"No. of Orders\", fontsize=12)\n",
    "plt.grid(axis='y', linestyle='--', alpha=0.8)\n",
    "plt.xticks(rotation=45)\n",
    "plt.tight_layout()\n",
    "plt.show()\n"
   ]
  },
  {
   "cell_type": "markdown",
   "id": "7e96b2c5",
   "metadata": {},
   "source": [
    "7. Number of Repeat Vs One-Time Buyers"
   ]
  },
  {
   "cell_type": "code",
   "execution_count": 31,
   "id": "862e2f32",
   "metadata": {},
   "outputs": [
    {
     "data": {
      "image/png": "[encoded data removed]",
      "text/plain": [
       "<Figure size 640x480 with 1 Axes>"
      ]
     },
     "metadata": {},
     "output_type": "display_data"
    }
   ],
   "source": [
    "buyer_type_counts = data_with_type['Buyer Type'].value_counts()\n",
    "\n",
    "buyer_type_counts.plot(kind='bar', color='navy')\n",
    "plt.title(\"Number of Repeat vs One-Time Buyers\")\n",
    "plt.xlabel(\"Buyer Type\")\n",
    "plt.ylabel(\"Number of Customers\")\n",
    "plt.tight_layout()\n",
    "plt.show()\n"
   ]
  }
 ],
 "metadata": {
  "kernelspec": {
   "display_name": "Python 3",
   "language": "python",
   "name": "python3"
  },
  "language_info": {
   "codemirror_mode": {
    "name": "ipython",
    "version": 3
   },
   "file_extension": ".py",
   "mimetype": "text/x-python",
   "name": "python",
   "nbconvert_exporter": "python",
   "pygments_lexer": "ipython3",
   "version": "3.13.3"
  }
 },
 "nbformat": 4,
 "nbformat_minor": 5
}
